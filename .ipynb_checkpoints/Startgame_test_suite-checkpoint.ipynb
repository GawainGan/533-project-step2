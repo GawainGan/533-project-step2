{
 "cells": [
  {
   "cell_type": "code",
   "execution_count": 3,
   "id": "30142289",
   "metadata": {},
   "outputs": [],
   "source": [
    "import unittest\n",
    "from Test_bot_endgame import *\n",
    "#from TestModule2 import TestSub\n",
    "def my_suite():\n",
    "    suite = unittest.TestSuite()\n",
    "    result = unittest.TestResult()\n",
    "    #add for each of the py files created with test case\n",
    "    suite.addTest(unittest.makeSuite(Testbot))\n",
    "#    suite.addTest(unittest.makeSuite(TestSub))\n",
    "    #runner = unittest.TextTestRunner()\n",
    "    return suite\n",
    "    \n",
    "#print(runner.run(suite))\n",
    "\n",
    "#my_suite()"
   ]
  },
  {
   "cell_type": "code",
   "execution_count": 5,
   "id": "287e0033",
   "metadata": {},
   "outputs": [
    {
     "name": "stdout",
     "output_type": "stream",
     "text": [
      "setupClass\n",
      "Set up\n",
      "How many round do you want to play with?1\n"
     ]
    },
    {
     "name": "stderr",
     "output_type": "stream",
     "text": [
      ".\n",
      "----------------------------------------------------------------------\n",
      "Ran 1 test in 1.651s\n",
      "\n",
      "OK\n"
     ]
    },
    {
     "name": "stdout",
     "output_type": "stream",
     "text": [
      "You are going to play 1 round, get ready!!!!!!!!\n",
      "\n",
      "Tear Down\n",
      "teardownClass\n"
     ]
    }
   ],
   "source": [
    "if __name__ == '__main__':\n",
    "    runner = unittest.TextTestRunner()\n",
    "    runner.run(my_suite())"
   ]
  },
  {
   "cell_type": "code",
   "execution_count": null,
   "id": "04b4d54c",
   "metadata": {},
   "outputs": [],
   "source": []
  }
 ],
 "metadata": {
  "kernelspec": {
   "display_name": "Python 3 (ipykernel)",
   "language": "python",
   "name": "python3"
  },
  "language_info": {
   "codemirror_mode": {
    "name": "ipython",
    "version": 3
   },
   "file_extension": ".py",
   "mimetype": "text/x-python",
   "name": "python",
   "nbconvert_exporter": "python",
   "pygments_lexer": "ipython3",
   "version": "3.9.12"
  }
 },
 "nbformat": 4,
 "nbformat_minor": 5
}

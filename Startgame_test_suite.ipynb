{
 "cells": [
  {
   "cell_type": "code",
   "execution_count": 2,
   "id": "30142289",
   "metadata": {},
   "outputs": [],
   "source": [
    "import unittest\n",
    "from Test_bot import *\n",
    "from Test_endgame import *\n",
    "def my_suite():\n",
    "    suite = unittest.TestSuite()\n",
    "    result = unittest.TestResult()\n",
    "    #add for each of the py files created with test case\n",
    "    suite.addTest(unittest.makeSuite(Testbot))\n",
    "    suite.addTest(unittest.makeSuite(Testendgame))\n",
    "    #runner = unittest.TextTestRunner()\n",
    "    return suite\n",
    "    \n",
    "#print(runner.run(suite))\n",
    "\n",
    "#my_suite()"
   ]
  },
  {
   "cell_type": "code",
   "execution_count": 3,
   "id": "287e0033",
   "metadata": {},
   "outputs": [
    {
     "name": "stdout",
     "output_type": "stream",
     "text": [
      "setupClass\n",
      "Set up\n",
      "How many round do you want to play with?1\n"
     ]
    },
    {
     "name": "stderr",
     "output_type": "stream",
     "text": [
      "."
     ]
    },
    {
     "name": "stdout",
     "output_type": "stream",
     "text": [
      "You are going to play 1 round, get ready!!!!!!!!\n",
      "\n",
      "Tear Down\n",
      "Set up\n",
      "How many round do you want to play with?1\n"
     ]
    },
    {
     "name": "stderr",
     "output_type": "stream",
     "text": [
      "...\n",
      "----------------------------------------------------------------------\n",
      "Ran 4 tests in 5.383s\n",
      "\n",
      "OK\n"
     ]
    },
    {
     "name": "stdout",
     "output_type": "stream",
     "text": [
      "You are going to play 1 round, get ready!!!!!!!!\n",
      "\n",
      "Dobby's turn to play\n",
      "\n",
      "|----------------Round1-----------------|\n",
      "|The high price of stock is 260 \t|\n",
      "|The low price of stock is 134 \t\t|\n",
      "|The volume of stock is 161 \t\t|\n",
      "|***Dobby is buying***\n",
      "|\t-----Dobby Buying ----- \t|\n",
      "|The random price of stock: 170.0\t|\n",
      "|Maximum volume of stock is 58.0 \t|\n",
      "|Enough balance to buy the stock\t|\n",
      "|---------------------------------------|\n",
      "|Dobby bought 57 volume of stock  \t|\n",
      "|Input vol: 57, expense: 9690 \t\t|\n",
      "\n",
      "End of the game\n",
      "----------------------------------------\n",
      "Calculating your total expense.........\t\n",
      "The total price of the stock you bought is 9690.0\n",
      "9690.0\n",
      "Tear Down\n",
      "teardownClass\n",
      "setupClass\n",
      "Set up\n",
      "Tear Down\n",
      "Set up\n",
      "Tear Down\n",
      "teardownClass\n"
     ]
    }
   ],
   "source": [
    "if __name__ == '__main__':\n",
    "    runner = unittest.TextTestRunner()\n",
    "    runner.run(my_suite())"
   ]
  },
  {
   "cell_type": "code",
   "execution_count": null,
   "id": "04b4d54c",
   "metadata": {},
   "outputs": [],
   "source": []
  }
 ],
 "metadata": {
  "kernelspec": {
   "display_name": "Python 3",
   "language": "python",
   "name": "python3"
  },
  "language_info": {
   "codemirror_mode": {
    "name": "ipython",
    "version": 3
   },
   "file_extension": ".py",
   "mimetype": "text/x-python",
   "name": "python",
   "nbconvert_exporter": "python",
   "pygments_lexer": "ipython3",
   "version": "3.9.1 (default, Mar  9 2021, 11:25:46) \n[Clang 12.0.0 (clang-1200.0.32.29)]"
  },
  "vscode": {
   "interpreter": {
    "hash": "ee089c0d8a7b72a1db4475b00a1092da957cc6786a2373700bea0bde293de64c"
   }
  }
 },
 "nbformat": 4,
 "nbformat_minor": 5
}

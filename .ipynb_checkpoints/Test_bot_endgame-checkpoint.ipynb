{
 "cells": [
  {
   "cell_type": "code",
   "execution_count": 1,
   "id": "81759974",
   "metadata": {},
   "outputs": [],
   "source": [
    "import unittest\n",
    "\n",
    "from main_package.Stock_main import *\n",
    "#from main_package.Buy import *\n",
    "#from sub_package.User import *\n",
    "from sub_package.bot import *\n",
    "#from sub_package.endgame import *"
   ]
  },
  {
   "cell_type": "code",
   "execution_count": 3,
   "id": "736df017",
   "metadata": {},
   "outputs": [
    {
     "name": "stderr",
     "output_type": "stream",
     "text": [
      "test_bot_buy (__main__.Testbot) ... "
     ]
    },
    {
     "name": "stdout",
     "output_type": "stream",
     "text": [
      "How many round do you want to play with?1\n"
     ]
    },
    {
     "name": "stderr",
     "output_type": "stream",
     "text": [
      "FAIL\n",
      "\n",
      "======================================================================\n",
      "FAIL: test_bot_buy (__main__.Testbot)\n",
      "----------------------------------------------------------------------\n",
      "Traceback (most recent call last):\n",
      "  File \"C:\\Users\\vijip\\AppData\\Local\\Temp\\ipykernel_52676\\1667162414.py\", line 13, in test_bot_buy\n",
      "    self.assertEqual(output[2],100)\n",
      "AssertionError: 10.0 != 100\n",
      "\n",
      "----------------------------------------------------------------------\n",
      "Ran 1 test in 1.546s\n",
      "\n",
      "FAILED (failures=1)\n"
     ]
    },
    {
     "name": "stdout",
     "output_type": "stream",
     "text": [
      "You are going to play 1 round, get ready!!!!!!!!\n",
      "\n"
     ]
    },
    {
     "data": {
      "text/plain": [
       "<unittest.main.TestProgram at 0x25ce80befa0>"
      ]
     },
     "execution_count": 3,
     "metadata": {},
     "output_type": "execute_result"
    }
   ],
   "source": [
    "class Testbot(unittest.TestCase): # test class\n",
    "    \n",
    "    @classmethod\n",
    "    def setUpClass(cls):\n",
    "        print('setupClass')\n",
    "    \n",
    "    def setUp(self):\n",
    "        print('Set up')\n",
    "        \n",
    "    def tearDown(self):\n",
    "        print('Tear Down')\n",
    "\n",
    "    def test_bot_buy(self): # test case\n",
    "        \n",
    "        Stock1 = Stock()\n",
    "        U2 = bot(Stock1)\n",
    "        \n",
    "        container_price = list(range(50,201))\n",
    "        \n",
    "        output = U2.buy_stock_rp(201, 50, vol=10)\n",
    "         \n",
    "        self.assertEqual(output[0],(10*output[1]))\n",
    "        \n",
    "        self.assertEqual(output[2],10)\n",
    "        #try with 100, there will be assertion error\n",
    "        \n",
    "        self.assertIn(output[1],container_price)\n",
    "        \n",
    "    @classmethod\n",
    "    def tearDownClass(cls):\n",
    "        print('teardownClass')\n",
    "\n",
    "        \n",
    "        \n",
    "unittest.main(argv=[''], verbosity=2, exit=False)"
   ]
  },
  {
   "cell_type": "code",
   "execution_count": null,
   "id": "b613bbe4",
   "metadata": {},
   "outputs": [],
   "source": []
  }
 ],
 "metadata": {
  "kernelspec": {
   "display_name": "Python 3 (ipykernel)",
   "language": "python",
   "name": "python3"
  },
  "language_info": {
   "codemirror_mode": {
    "name": "ipython",
    "version": 3
   },
   "file_extension": ".py",
   "mimetype": "text/x-python",
   "name": "python",
   "nbconvert_exporter": "python",
   "pygments_lexer": "ipython3",
   "version": "3.9.12"
  }
 },
 "nbformat": 4,
 "nbformat_minor": 5
}
